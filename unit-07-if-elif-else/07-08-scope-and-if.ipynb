{
 "cells": [
  {
   "cell_type": "markdown",
   "id": "8f3f5edc-9595-4441-8051-d9c5e56bbb69",
   "metadata": {},
   "source": [
    "# Units 07/08 Scope & If"
   ]
  },
  {
   "cell_type": "markdown",
   "id": "45e99dda-a854-4098-9c28-910dd3dcc027",
   "metadata": {},
   "source": [
    "## scope\n",
    "\n",
    "variables declared inside a function is considered a different variable from the same variable declared outside the function"
   ]
  },
  {
   "cell_type": "code",
   "execution_count": 8,
   "id": "dcd86bc7-d0b7-4aec-bdea-e0dba046c4c3",
   "metadata": {},
   "outputs": [],
   "source": [
    "a = 300\n",
    "\n",
    "def newFunc():\n",
    "  a = 200\n",
    "  print('inside function:', a)\n",
    "\n",
    "newFunc()\n",
    "\n",
    "print('outside function:', a) "
   ]
  },
  {
   "cell_type": "markdown",
   "id": "75f919cd-f0d2-4c89-b20f-6e36869d6207",
   "metadata": {},
   "source": [
    "To change the value of a global variable inside a function, refer to the variable by using the `global` keyword"
   ]
  },
  {
   "cell_type": "code",
   "execution_count": 11,
   "id": "3ed44284-915a-4182-b258-2878cedadd38",
   "metadata": {},
   "outputs": [],
   "source": [
    "a = 300\n",
    "\n",
    "def newFunc():\n",
    "  global a\n",
    "  a = 200\n",
    "  print('inside function:', a)\n",
    "\n",
    "newFunc()\n",
    "\n",
    "print('outside function:', a) "
   ]
  },
  {
   "cell_type": "markdown",
   "id": "0dccdbfd-57bf-4419-aa5e-b98ca436c3e4",
   "metadata": {},
   "source": [
    "## If\n",
    "`if` is a logical statement that forms the basis of nearly all computer programs. It functions exactly how you think it would - if a certain condition is met - do something"
   ]
  },
  {
   "cell_type": "code",
   "execution_count": 15,
   "id": "19f3f3dc-d344-4725-bdc5-27345da0568f",
   "metadata": {},
   "outputs": [],
   "source": [
    "if True:\n",
    "    print('inside if')"
   ]
  },
  {
   "cell_type": "code",
   "execution_count": 13,
   "id": "63a9f605-dac8-4ef3-9dca-275acc1dd7ee",
   "metadata": {},
   "outputs": [],
   "source": [
    "if False:\n",
    "    print('inside if')"
   ]
  },
  {
   "cell_type": "markdown",
   "id": "de6d7969-44a2-4f90-85c1-a980ced5191e",
   "metadata": {},
   "source": [
    "the two above codes represent the most basic cases\n",
    "\n",
    "`if True` will always evaluate. This is called a tautology <br />\n",
    "`if False` will never evaluate. This is called a contradiction"
   ]
  },
  {
   "cell_type": "code",
   "execution_count": 17,
   "id": "2a201660-203a-46d2-b1ec-1026e96c4028",
   "metadata": {},
   "outputs": [],
   "source": [
    "a = 10\n",
    "\n",
    "if a % 2 == 0:\n",
    "    print('what does this mean?')"
   ]
  },
  {
   "cell_type": "markdown",
   "id": "70ba8cdd-80ab-4506-93c5-9015830af151",
   "metadata": {},
   "source": [
    "In plain terms, what are the above codes telling us?"
   ]
  },
  {
   "cell_type": "code",
   "execution_count": 3,
   "id": "10fdd360-6292-45df-9995-06c17e0d8f0a",
   "metadata": {},
   "outputs": [],
   "source": [
    "a = int(input())\n",
    "\n",
    "if a % 7 == 0:\n",
    "    print('a % 7 == 0')"
   ]
  },
  {
   "cell_type": "markdown",
   "id": "4fd33b40-be87-4ca0-8de3-bc6f786cfb6a",
   "metadata": {},
   "source": [
    "## else\n",
    "`else` always comes after `if`. `else` does something if `if` does not"
   ]
  },
  {
   "cell_type": "code",
   "execution_count": 5,
   "id": "6dea1f6b-d1a8-4b04-bd55-20bf32e90a00",
   "metadata": {},
   "outputs": [],
   "source": [
    "a = int(input())\n",
    "\n",
    "if a % 7 == 0:\n",
    "    print('divisible by 7')\n",
    "else:\n",
    "    print('not divisible by 7')"
   ]
  },
  {
   "cell_type": "markdown",
   "id": "006a719e-7d29-4f3d-b461-a1367e53d0e0",
   "metadata": {},
   "source": [
    "## elif\n",
    "you can stack multiple if and elses together like a ladder. In python this is done using the `elif` reserved word"
   ]
  },
  {
   "cell_type": "code",
   "execution_count": 15,
   "id": "73ca25b2-eed8-4a7e-9595-fac52198c950",
   "metadata": {},
   "outputs": [],
   "source": [
    "a = int(input())\n",
    "\n",
    "if a % 2 == 0:\n",
    "    print('divisible by 2')\n",
    "elif a % 3 == 0:\n",
    "    print('divisible by 3')\n",
    "elif a % 5 == 0:\n",
    "    print('divisible by 5')\n",
    "elif a % 7 == 0:\n",
    "    print('divisible by 7')\n",
    "elif a % 11 == 0:\n",
    "    print('divisible by 11')\n",
    "else:\n",
    "    print('not divisible by any of them')"
   ]
  },
  {
   "cell_type": "markdown",
   "id": "943417de-4d7d-4247-8647-05469a83e64e",
   "metadata": {},
   "source": [
    "## Programs\n",
    "- create a basic calculator that can run the four basic arithmetic operators (+-/*)\n",
    "- create a basic text adventure game that goes 3-4 questions deep\n",
    "- create a program to read a test score and print out grade the student earned\n",
    "- fizzbuzz (classic interview question): print 'fizz' for numbers divisible by 3, 'buzz' for numbers divisible by 5, and 'fizzbuzz' for numbers divisible by 3 & 5\n",
    "\n",
    "\n",
    "## more advanced programs (requires knowledge we have not taught yet)\n",
    "- write a program to determine if a given number is prime\n",
    "- write a program to give the 'intersection' of two lists"
   ]
  },
  {
   "cell_type": "code",
   "execution_count": null,
   "id": "cfd84ac5-5d8d-4e14-b90e-2332d447865a",
   "metadata": {},
   "outputs": [],
   "source": []
  }
 ],
 "metadata": {
  "kernelspec": {
   "display_name": "Python 3 (ipykernel)",
   "language": "python",
   "name": "python3"
  },
  "language_info": {
   "codemirror_mode": {
    "name": "ipython",
    "version": 3
   },
   "file_extension": ".py",
   "mimetype": "text/x-python",
   "name": "python",
   "nbconvert_exporter": "python",
   "pygments_lexer": "ipython3",
   "version": "3.12.7"
  }
 },
 "nbformat": 4,
 "nbformat_minor": 5
}
