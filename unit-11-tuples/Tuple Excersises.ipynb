{
  "metadata": {
    "kernelspec": {
      "name": "python",
      "display_name": "Python (Pyodide)",
      "language": "python"
    },
    "language_info": {
      "codemirror_mode": {
        "name": "python",
        "version": 3
      },
      "file_extension": ".py",
      "mimetype": "text/x-python",
      "name": "python",
      "nbconvert_exporter": "python",
      "pygments_lexer": "ipython3",
      "version": "3.8"
    }
  },
  "nbformat_minor": 4,
  "nbformat": 4,
  "cells": [
    {
      "cell_type": "code",
      "source": "# I want to order one french fry, 2 hot dogs, one soda\n# Make a tuple that represents this order\n\nmyOrder = ()\nprint(myOrder)",
      "metadata": {
        "trusted": true
      },
      "outputs": [],
      "execution_count": null
    },
    {
      "cell_type": "code",
      "source": "# Oh no! I need to change my order! Can I do this, or do I need to make a new order?\n# Update `myOrder` to change your order from two hot dogs to one hot dog, and one hamburger\n\nprint(myOrder)",
      "metadata": {
        "trusted": true
      },
      "outputs": [],
      "execution_count": null
    },
    {
      "cell_type": "code",
      "source": "# What's the second thing in my order?\n\nprint(myOrder)",
      "metadata": {
        "trusted": true
      },
      "outputs": [],
      "execution_count": null
    },
    {
      "cell_type": "code",
      "source": "# I want to split my order into two checks\n# Ethan is getting the hotdog and fries.\n# Sathya is getting the hamburder and soda.\n# Make two new tuples from the original that represent the orders\n\nprint(ethansOrder)\nprint(sathyasOrder)",
      "metadata": {
        "trusted": true
      },
      "outputs": [],
      "execution_count": null
    }
  ]
}