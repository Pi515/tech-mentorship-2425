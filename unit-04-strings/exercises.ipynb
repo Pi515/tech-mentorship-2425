{
 "cells": [
  {
   "cell_type": "markdown",
   "id": "919f3cb0-dd11-41f4-88a3-217ddedf456d",
   "metadata": {},
   "source": [
    "# Unit 04 - Strings\n",
    "### In-Class Exercises"
   ]
  },
  {
   "cell_type": "markdown",
   "id": "71d6a81b-b1f1-433e-ba5b-07432b611041",
   "metadata": {},
   "source": [
    "### Exercise 1 - Your Name\n",
    "Make 2 variables  \n",
    "**firstName** and initialize to your first name  \n",
    "**lastName** and initialize to your last name\n",
    "\n",
    "Remember how to view the output? Not *printer* but..."
   ]
  },
  {
   "cell_type": "code",
   "execution_count": null,
   "id": "18b3e745-ed61-465b-9fe2-c1be67c16819",
   "metadata": {},
   "outputs": [],
   "source": []
  },
  {
   "cell_type": "markdown",
   "id": "171de116-2bda-4bbd-9f68-1130b552c0d1",
   "metadata": {},
   "source": [
    "### Exercise 2 - String Facts\n",
    "Use the **len()** function on your **firstName**. Is Python correct about the number of letters?\n",
    "\n",
    "Use the **in** keyword to see if **'R'** is in your **lastName**. Is Python correct?"
   ]
  },
  {
   "cell_type": "code",
   "execution_count": null,
   "id": "429288cb-d722-4a6c-9c62-6842b003ccea",
   "metadata": {},
   "outputs": [],
   "source": []
  },
  {
   "cell_type": "markdown",
   "id": "73ec102c-c32b-47b8-9807-ac926be05ef5",
   "metadata": {},
   "source": [
    "### Exercise 3a - (Some)thing\n",
    "\n",
    "Use index accessors **string[ index ]** to print out **'Some'** from **'Something'**"
   ]
  },
  {
   "cell_type": "code",
   "execution_count": null,
   "id": "1b1d57f0-d6e0-48fe-bd2c-f87a369c8aa0",
   "metadata": {},
   "outputs": [],
   "source": [
    "something = 'Something'"
   ]
  },
  {
   "attachments": {},
   "cell_type": "markdown",
   "id": "aff45a96-d2d4-4f6c-b4c6-7d2cada7e2e2",
   "metadata": {},
   "source": [
    "### Exercise 3b - Slices\n",
    "\n",
    "**string[ start : stop ]**\n",
    "\n",
    "Use slices to print out **'Some'** from **'Something'**."
   ]
  },
  {
   "cell_type": "code",
   "execution_count": null,
   "id": "51fb72ab-9e9f-498b-b746-333c0c0830fa",
   "metadata": {},
   "outputs": [],
   "source": [
    "something = 'Something'"
   ]
  },
  {
   "cell_type": "markdown",
   "id": "ca83ee7b-42c1-4248-b316-f1a77c52891f",
   "metadata": {},
   "source": [
    "### Exercise 4 - Negative Indices\n",
    "\n",
    "Print out **'Some'** from **'Something'** using negative slice indices."
   ]
  },
  {
   "cell_type": "code",
   "execution_count": null,
   "id": "e3cf0240-c715-41be-8716-77630bdddb60",
   "metadata": {},
   "outputs": [],
   "source": []
  },
  {
   "attachments": {},
   "cell_type": "markdown",
   "id": "9670aba8-ecea-4d98-b30a-7a3ba7b529dd",
   "metadata": {},
   "source": [
    "### Exercise 5 - String Methods\n",
    "\n",
    "Capitalize your **firstName**  \n",
    "Uppercase your **firstName**  \n",
    "Lowercase your **firstName**  \n",
    "Turn **'NoIce'** to **'Noice'** in one line"
   ]
  },
  {
   "cell_type": "code",
   "execution_count": null,
   "id": "c8c24a03-3dff-4172-98ef-b1fb7426de3d",
   "metadata": {},
   "outputs": [],
   "source": []
  },
  {
   "cell_type": "markdown",
   "id": "0b3cce68-2aa9-4e6c-a1f1-e0ea3f030ce6",
   "metadata": {},
   "source": [
    "### Exercise 6 - More String Methods\n",
    "\n",
    "Use **str.split(delimiter)** and **delimiter.join(strings)**  \n",
    "to turn **'No ice'** into **'Noice'**.\n",
    "\n",
    "Use **str.replace(search, replacement)**  \n",
    "to turn **'Not Ice'** into **'Notice'** and then into **'Noice'**."
   ]
  },
  {
   "cell_type": "code",
   "execution_count": null,
   "id": "a37dfe74-5bd8-4760-a117-d0b16e397017",
   "metadata": {},
   "outputs": [],
   "source": []
  },
  {
   "cell_type": "markdown",
   "id": "eeabc7b2-6fb8-4d84-a126-365f0f05bae5",
   "metadata": {},
   "source": [
    "### Bonus / Review 1\n",
    "There's a **mysteryString** of your name and then a cool phrase **'N O I C E'**.\n",
    "\n",
    "1. Verify that the cool phrase exists in **mysteryString**\n",
    "2. Get the cool phrase out as a substring\n",
    "3. Find as many ways as you can to get the cool phrase out. Share them with us and your neighbors!"
   ]
  },
  {
   "cell_type": "code",
   "execution_count": null,
   "id": "2a380701-ea55-4049-bfd6-fe6d475850a5",
   "metadata": {},
   "outputs": [],
   "source": [
    "mysteryString = firstName + lastName + 'N O I C E'"
   ]
  },
  {
   "cell_type": "markdown",
   "id": "bc9b2e15-e6b5-4ffc-b70f-6cfba35ea340",
   "metadata": {},
   "source": [
    "### Bonus / Review 2\n",
    "Find 2 ways to replace all the spaces with commas (**','**) **'N O I C E'**.\n",
    "\n",
    "Turn **'N O I C E'** into **'noice'**.\n",
    "\n",
    "Challenge:\n",
    "How many ways can you concatenate your **firstName** and **lastName**? Show them too!"
   ]
  },
  {
   "cell_type": "code",
   "execution_count": null,
   "id": "0be55ef2-24bd-42c0-b594-16a8dd80c8c9",
   "metadata": {},
   "outputs": [],
   "source": []
  },
  {
   "cell_type": "markdown",
   "id": "381ff7fe-8974-4567-aaa7-e4e358616edb",
   "metadata": {},
   "source": [
    "### Bonus / Review 3\n",
    "\n",
    "Capitalize your **firstName**\n",
    "\n",
    "Make your **firstName** all uppercase\n",
    "\n",
    "Make your **firstName** all lowercase\n",
    "\n",
    "Turn **'Not Ice'** into **'Noice'**"
   ]
  },
  {
   "cell_type": "code",
   "execution_count": null,
   "id": "e418b347-1171-4d75-a5d2-47e408eb8016",
   "metadata": {},
   "outputs": [],
   "source": []
  }
 ],
 "metadata": {
  "kernelspec": {
   "display_name": "Python 3 (ipykernel)",
   "language": "python",
   "name": "python3"
  },
  "language_info": {
   "codemirror_mode": {
    "name": "ipython",
    "version": 3
   },
   "file_extension": ".py",
   "mimetype": "text/x-python",
   "name": "python",
   "nbconvert_exporter": "python",
   "pygments_lexer": "ipython3",
   "version": "3.12.7"
  }
 },
 "nbformat": 4,
 "nbformat_minor": 5
}
