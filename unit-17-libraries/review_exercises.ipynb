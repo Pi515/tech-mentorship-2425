{
 "cells": [
  {
   "cell_type": "markdown",
   "metadata": {},
   "source": [
    "# Libraries review"
   ]
  },
  {
   "cell_type": "markdown",
   "metadata": {},
   "source": [
    "Let's test your knowledge of everything you have learned so far!\n",
    "\n",
    "Earlier, you learned to use the random library to simulate a game of rock, paper, scissors.\n",
    "Now write a function that simulates a two-player game where you are playing against a friend\n",
    "\n",
    "Plot twists:\n",
    "1. Because your friend is super competitive, the game must go on until your friend wins\n",
    "2. The function must return a string that contains your friend's winning move\n",
    "3. Bonus: In the same string statement, also include the number of games it took for your friend to win.\n",
    "\n",
    "Hint: this exercise will test your knowledge of loops, booleans and use of the random library"
   ]
  },
  {
   "cell_type": "code",
   "execution_count": 2,
   "metadata": {},
   "outputs": [],
   "source": [
    "import random\n",
    "\n",
    "def rock_paper_scissors() -> str:\n",
    "    friend_wins = False\n",
    "    moves = [\"rock\", \"paper\", \"scissors\"]\n",
    "    num_games = 0\n",
    "\n",
    "    # Your code here:\n",
    "    \n",
    "    return \"\" # Replace this empty string with a string statement that contains your friend's winning move"
   ]
  },
  {
   "cell_type": "code",
   "execution_count": 3,
   "metadata": {},
   "outputs": [
    {
     "name": "stdout",
     "output_type": "stream",
     "text": [
      "\n"
     ]
    }
   ],
   "source": [
    "result = rock_paper_scissors()\n",
    "print(result) \n",
    "# expected: A string statement containing your friend's winning move (\"rock\", \"paper\" or \"scissors\")\n",
    "# optional: The string also outputs the number of games it took for your friend to win (\"Your friend chose rock and won after 3 games\")"
   ]
  }
 ],
 "metadata": {
  "kernelspec": {
   "display_name": "bench-dh4-AVpE",
   "language": "python",
   "name": "python3"
  },
  "language_info": {
   "codemirror_mode": {
    "name": "ipython",
    "version": 3
   },
   "file_extension": ".py",
   "mimetype": "text/x-python",
   "name": "python",
   "nbconvert_exporter": "python",
   "pygments_lexer": "ipython3",
   "version": "3.10.8"
  }
 },
 "nbformat": 4,
 "nbformat_minor": 2
}
