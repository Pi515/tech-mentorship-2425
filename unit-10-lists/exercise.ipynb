{
 "cells": [
  {
   "cell_type": "markdown",
   "metadata": {},
   "source": [
    "# Lists\n",
    "\n",
    "Lists are a way to way to store a collection of data. Let's consider an example below representing student grades:"
   ]
  },
  {
   "cell_type": "code",
   "execution_count": 1,
   "metadata": {},
   "outputs": [],
   "source": [
    "student_grades = [0.92, 0.81, 0.74, 0.88, 0.96, .61, 0.45, 0.66, 1.0, 0.79]"
   ]
  },
  {
   "cell_type": "markdown",
   "metadata": {},
   "source": [
    "Lists can also store any type of variable"
   ]
  },
  {
   "cell_type": "code",
   "execution_count": 2,
   "metadata": {},
   "outputs": [],
   "source": [
    "letters = [\"a\", \"b\", \"c\"]"
   ]
  },
  {
   "cell_type": "markdown",
   "metadata": {},
   "source": [
    "Lists can also contain different data types. Use isinstance to determine which type it is"
   ]
  },
  {
   "cell_type": "code",
   "execution_count": null,
   "metadata": {},
   "outputs": [],
   "source": [
    "var_list = [1, 1.0, \"hello\"]\n",
    "\n",
    "print(isinstance(var_list[0], int))"
   ]
  },
  {
   "cell_type": "markdown",
   "metadata": {},
   "source": [
    "## Indexing\n",
    "\n",
    "We can capture a particular student's grade by accessing the index it is located within the list. Write code to answer the following:\n",
    "1. What is the 3rd student's grade?\n",
    "2. What is the last student's grade?"
   ]
  },
  {
   "cell_type": "code",
   "execution_count": null,
   "metadata": {},
   "outputs": [],
   "source": [
    "third_student_grade = student_grades[2]\n",
    "last_student_grade = student_grades[-1]\n",
    "\n",
    "print(\"3rd student's grade is {}%\".format(third_student_grade*100))\n",
    "print(\"last student's grade is {}%\".format(last_student_grade*100))"
   ]
  },
  {
   "cell_type": "markdown",
   "metadata": {},
   "source": [
    "As we can see, a list first index starts at 0. This is known as zero-indexed"
   ]
  },
  {
   "cell_type": "markdown",
   "metadata": {},
   "source": [
    "## Change Value\n",
    "\n",
    "We can change the values of elements within the list\n",
    "\n",
    "Student 3's grade has improved to 90%. Update this in student_grades and print the resulting list"
   ]
  },
  {
   "cell_type": "code",
   "execution_count": null,
   "metadata": {},
   "outputs": [],
   "source": [
    "student_grades[2] = 0.90\n",
    "\n",
    "print(student_grades)"
   ]
  },
  {
   "cell_type": "markdown",
   "metadata": {},
   "source": [
    "## Slicing\n",
    "\n",
    "We can access a range of elements within a list using slicing. Complete the following in a single line:\n",
    "1. Print student index 2-5's grade\n",
    "2. Print all grades except the first 3 students"
   ]
  },
  {
   "cell_type": "code",
   "execution_count": null,
   "metadata": {},
   "outputs": [],
   "source": [
    "print(student_grades[2:5])\n",
    "print(student_grades[3:])"
   ]
  },
  {
   "cell_type": "markdown",
   "metadata": {},
   "source": [
    "## Remove\n",
    "\n",
    "We can remove elements from a list in multiple ways. Let's complete the following:\n",
    "1. Any student who has 100% in the class should be dropped from the class so they can be moved up to a more advanced class\n",
    "2. The student at the 6th index grade is too low, so they need to drop the class"
   ]
  },
  {
   "cell_type": "code",
   "execution_count": null,
   "metadata": {},
   "outputs": [],
   "source": [
    "student_grades.remove(1.0)\n",
    "student_grades.pop(6)\n",
    "\n",
    "print(student_grades)"
   ]
  },
  {
   "cell_type": "markdown",
   "metadata": {},
   "source": [
    "## Adding Elements\n",
    "\n",
    "Elements can be added to the class. Let's add 2 students to the class. Since they just joined, let's assume their grades are 0%"
   ]
  },
  {
   "cell_type": "code",
   "execution_count": null,
   "metadata": {},
   "outputs": [],
   "source": [
    "student_grades.append(0.0)\n",
    "student_grades.append(0.0)\n",
    "\n",
    "print(student_grades)"
   ]
  },
  {
   "cell_type": "markdown",
   "metadata": {},
   "source": [
    "## Inserting Elements\n",
    "\n",
    "Elements can also be inserted at a specific position. Let's add a student in the second position of the list:"
   ]
  },
  {
   "cell_type": "code",
   "execution_count": null,
   "metadata": {},
   "outputs": [],
   "source": [
    "student_grades.insert(2, 1.0)\n",
    "\n",
    "print(student_grades)"
   ]
  },
  {
   "cell_type": "markdown",
   "metadata": {},
   "source": [
    "## Combine Lists\n",
    "\n",
    "Much like strings can be concatenated, lists can also be combined using the + operator.\n",
    "\n",
    "Let's assume another class' students need to be combined with our class. Write code below to create a new list that contained the combined classes:"
   ]
  },
  {
   "cell_type": "code",
   "execution_count": null,
   "metadata": {},
   "outputs": [],
   "source": [
    "second_student_grades = [0.85, 0.71, 0.98, 0.60]\n",
    "\n",
    "combined_student_grades = student_grades + second_student_grades\n",
    "\n",
    "print(combined_student_grades)"
   ]
  },
  {
   "cell_type": "markdown",
   "metadata": {},
   "source": [
    "## Sorting\n",
    "\n",
    "We can sort lists in ascending or descending order. Let's practice:\n",
    "1. Sort the combined_student_grades in ascending order\n",
    "2. Sort the combined_student_grades in descending order"
   ]
  },
  {
   "cell_type": "code",
   "execution_count": null,
   "metadata": {},
   "outputs": [],
   "source": [
    "combined_student_grades.sort()\n",
    "print(combined_student_grades)\n",
    "\n",
    "combined_student_grades.sort(reverse=True)\n",
    "print(combined_student_grades)"
   ]
  },
  {
   "cell_type": "markdown",
   "metadata": {},
   "source": [
    "## List Iteration\n",
    "\n",
    "We can traverse through every element in the array using the following code:"
   ]
  },
  {
   "cell_type": "code",
   "execution_count": null,
   "metadata": {},
   "outputs": [],
   "source": [
    "for index, value in enumerate(combined_student_grades):\n",
    "    print(f\"Index {index}: {value*100}%\")"
   ]
  },
  {
   "cell_type": "markdown",
   "metadata": {},
   "source": [
    "## Length of Array\n",
    "\n",
    "The len function returns how many elements are in the array"
   ]
  },
  {
   "cell_type": "code",
   "execution_count": null,
   "metadata": {},
   "outputs": [],
   "source": [
    "print(\"There are {} elements in combined_student_grades\".format(len(combined_student_grades)))"
   ]
  },
  {
   "cell_type": "markdown",
   "metadata": {},
   "source": [
    "# Exercises\n",
    "\n",
    "1. Given student_grades and second_student_grades, compute the average grade of each class and programatically print which class has a higher average grade\n",
    "2. Given a student_grades and student_ids, print the ID corresponding to the student with the highest and lowest grade programatically"
   ]
  },
  {
   "cell_type": "code",
   "execution_count": null,
   "metadata": {},
   "outputs": [],
   "source": [
    "# Exercise 1 code\n"
   ]
  },
  {
   "cell_type": "code",
   "execution_count": null,
   "metadata": {},
   "outputs": [],
   "source": [
    "student_grades = [0.85, 0.71, 0.98, 0.60, 0.92]\n",
    "student_ids = [1, 2, 3, 4, 5]\n",
    "\n",
    "# Exercise 2 code\n"
   ]
  },
  {
   "cell_type": "markdown",
   "metadata": {},
   "source": [
    "# Challenge Exercises\n",
    "\n",
    "1. Given 2 lists, write code to merge the two lists but remove the duplicate elements\n",
    "2. Write code to sort a list and then programatically search for the element that has a value of 7 and return its index"
   ]
  },
  {
   "cell_type": "code",
   "execution_count": null,
   "metadata": {},
   "outputs": [],
   "source": [
    "list1 = [3, 6, 9, 12, 15]\n",
    "list2 = [2, 4, 6, 8, 10, 12, 14]\n",
    "\n",
    "# Challenge exercise 1 code\n"
   ]
  },
  {
   "cell_type": "code",
   "execution_count": null,
   "metadata": {},
   "outputs": [],
   "source": [
    "numbers = [1, 5, 2, 7, 4, 0, 8, 3, 6, 9]\n",
    "\n",
    "# Challenge exercise 2 code\n"
   ]
  }
 ],
 "metadata": {
  "kernelspec": {
   "display_name": "Python 3",
   "language": "python",
   "name": "python3"
  },
  "language_info": {
   "codemirror_mode": {
    "name": "ipython",
    "version": 3
   },
   "file_extension": ".py",
   "mimetype": "text/x-python",
   "name": "python",
   "nbconvert_exporter": "python",
   "pygments_lexer": "ipython3",
   "version": "3.11.5"
  }
 },
 "nbformat": 4,
 "nbformat_minor": 2
}
