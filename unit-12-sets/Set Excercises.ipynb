{
  "metadata": {
    "kernelspec": {
      "name": "python",
      "display_name": "Python (Pyodide)",
      "language": "python"
    },
    "language_info": {
      "codemirror_mode": {
        "name": "python",
        "version": 3
      },
      "file_extension": ".py",
      "mimetype": "text/x-python",
      "name": "python",
      "nbconvert_exporter": "python",
      "pygments_lexer": "ipython3",
      "version": "3.8"
    }
  },
  "nbformat_minor": 4,
  "nbformat": 4,
  "cells": [
    {
      "cell_type": "code",
      "source": "# Our food truck menu should be a _set_ of available foods and drinks\n\n# FIXME\nmenu == ['Pizza', \"Hot Dog\", 'PB&J', \"Salad', 'Water', Soda];\n\nprint(menu)",
      "metadata": {
        "trusted": true
      },
      "outputs": [
        {
          "ename": "<class 'SyntaxError'>",
          "evalue": "unterminated string literal (detected at line 4) (<ipython-input-2-d6aa37d990ba>, line 4)",
          "traceback": [
            "\u001b[0;36m  Cell \u001b[0;32mIn[2], line 4\u001b[0;36m\u001b[0m\n\u001b[0;31m    menu == ['Pizza', \"Hot Dog\", 'PB&J', \"Salad', 'Water', Soda];\u001b[0m\n\u001b[0m                                         ^\u001b[0m\n\u001b[0;31mSyntaxError\u001b[0m\u001b[0;31m:\u001b[0m unterminated string literal (detected at line 4)\n"
          ],
          "output_type": "error"
        }
      ],
      "execution_count": 2
    },
    {
      "cell_type": "code",
      "source": "# The food truck ran out of Hot Dogs but found some Burgers in the freezer!\n# Please update the menu\n\nmenu = {'Pizza', 'Hot Dog', 'PB&J', 'Salad', 'Water', 'Soda'}\n\nprint(menu)",
      "metadata": {
        "trusted": true
      },
      "outputs": [
        {
          "name": "stdout",
          "text": "{'Pizza', 'Hot Dog', 'Water', 'Salad', 'PB&J', 'Soda'}\n",
          "output_type": "stream"
        }
      ],
      "execution_count": 1
    },
    {
      "cell_type": "code",
      "source": "# Create your order for the food truck and see if your order is available\n\nmenu = {'Pizza', 'Hot Dog', 'PB&J', 'Salad', 'Water', 'Soda'}\n\nprint('Order Available: ')\n\n# Make an order that isn't available\n\nprint('Order not Available: ')",
      "metadata": {
        "trusted": true
      },
      "outputs": [],
      "execution_count": null
    },
    {
      "cell_type": "code",
      "source": "# The food truck has separate menus for drinks and food\n\ndrinks = {'Water', 'Soda'}\nfoods = {'Pizza', 'Hot Dog', 'PB&J', 'Salad'}\n\nprint('Combined menu: ')",
      "metadata": {
        "trusted": true
      },
      "outputs": [],
      "execution_count": null
    },
    {
      "cell_type": "code",
      "source": "# A rival food truck approaches! Find out how the menus compare!\n\nourMenu = {'Pizza', 'Hot Dog', 'PB&J', 'Salad', 'Water', 'Soda'}\nrivalMenu = {'Pasta', 'Pizza', 'Salad', 'Water', 'Soda'}\n\n# 1. Find if the menu is different\n\nprint('Is Different?: ')\n\n# 2. Find the unique items on our menu\n\nprint('Our Unique: ')\n\n# 3. Find the unique items on the rival menu\n\nprint('Rival Unique: ')\n\n# 4. Find all differences from both menus\n\nprint('All differences: ')\n\n# 5. Find common items between the menus\n\nprint('Common items: ')\n\n# 6. We want our food truck to be unique!! Make a new menu with only the uniqe items from both menus. Make sure to save the old menu in case our rival leaves! (Has many answers)\n\nprint('Old menu: ')\nprint('New menu: ')",
      "metadata": {
        "trusted": true
      },
      "outputs": [],
      "execution_count": null
    }
  ]
}