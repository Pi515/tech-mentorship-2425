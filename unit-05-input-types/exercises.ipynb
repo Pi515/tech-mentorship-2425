{
 "cells": [
  {
   "cell_type": "markdown",
   "id": "919f3cb0-dd11-41f4-88a3-217ddedf456d",
   "metadata": {},
   "source": [
    "### Unit 05 - Input, Data Type Conversion, Type Check\n",
    "### In-Class Examples & Exercises"
   ]
  },
  {
   "cell_type": "markdown",
   "id": "2ca1796a",
   "metadata": {
    "colab_type": "text",
    "id": "view-in-github"
   },
   "source": [
    "<!--\n",
    "    Instructors - This is a Google Colab link for running the notebook in a browser.\n",
    "    The link will not be valid until the PR is merged to main, but you can swap \"main\" in the URL with the PR's branch name to try it.\n",
    "-->\n",
    "If you want to play with this when you don't have your Pi515 laptop: <a href=\"https://colab.research.google.com/github/pi515/tech-mentorship-2425/blob/main/unit-05-input-types/exercises.ipynb\" target=\"_parent\"><img src=\"https://colab.research.google.com/assets/colab-badge.svg\" alt=\"Open In Google Colab\"/></a>"
   ]
  },
  {
   "cell_type": "markdown",
   "id": "5efc5ea7",
   "metadata": {},
   "source": [
    "## Section 1 - Input Format"
   ]
  },
  {
   "cell_type": "markdown",
   "id": "b271a0d7",
   "metadata": {},
   "source": [
    "### Example 1a - Input Format"
   ]
  },
  {
   "cell_type": "code",
   "execution_count": null,
   "id": "f4b6e48a",
   "metadata": {},
   "outputs": [],
   "source": [
    "########################\n",
    "# Example of Input\n",
    "########################\n",
    "favoriteColor = input(\"What is your favorite color? \")\n",
    "\n",
    "print()\n",
    "print(favoriteColor + \" is also my favorite color!\")\n"
   ]
  },
  {
   "cell_type": "markdown",
   "id": "f988a99e",
   "metadata": {},
   "source": [
    "### Example 1b - Input Format"
   ]
  },
  {
   "cell_type": "code",
   "execution_count": null,
   "id": "16860378",
   "metadata": {},
   "outputs": [],
   "source": [
    "########################\n",
    "# What do you think will happen when we run this code?\n",
    "########################\n",
    "print(\"Hello Pi515!\")\n",
    "\n",
    "input(\"I am the message that is shown to the user\")\n",
    "\n",
    "print(\"Today we are learning about input & data type conversions.\")\n"
   ]
  },
  {
   "cell_type": "markdown",
   "id": "71d6a81b-b1f1-433e-ba5b-07432b611041",
   "metadata": {},
   "source": [
    "### Exercise 1 - Input Format: Greet user by name\n",
    "1. Ask the user for their name using `input()`\n",
    "2. Store the user's answer in a variable named `userName`\n",
    "3. Show a message greeting the user by the name they entered"
   ]
  },
  {
   "cell_type": "code",
   "execution_count": null,
   "id": "18b3e745-ed61-465b-9fe2-c1be67c16819",
   "metadata": {},
   "outputs": [],
   "source": []
  },
  {
   "cell_type": "markdown",
   "id": "7bd09800",
   "metadata": {},
   "source": [
    "## Section 2 - Data Type Conversion"
   ]
  },
  {
   "cell_type": "markdown",
   "id": "99ec97c0",
   "metadata": {},
   "source": [
    "### Example 2 - Data Type Conversion"
   ]
  },
  {
   "cell_type": "code",
   "execution_count": null,
   "id": "afd58b13",
   "metadata": {},
   "outputs": [],
   "source": [
    "########################\n",
    "# Data type conversion example\n",
    "########################\n",
    "print(\"10\")\n",
    "\n",
    "predictDataType = int(\"10\")\n",
    "print(predictDataType)"
   ]
  },
  {
   "cell_type": "markdown",
   "id": "9dc48c3d",
   "metadata": {},
   "source": [
    "### Exercise 2a - Data Type Conversion\n",
    "1. Update the `integerSum =` line so we see print message \"101\"\n",
    "2. Update the `floatSum =` line so we see a print message \"3.5\"\n",
    "3. Update the `if boolString == True` line so we see the message `Very noice! It was True\n",
    "4. Update the line that prints `myNumber`\n"
   ]
  },
  {
   "cell_type": "code",
   "execution_count": null,
   "id": "429288cb-d722-4a6c-9c62-6842b003ccea",
   "metadata": {},
   "outputs": [],
   "source": [
    "integerString = \"100\"\n",
    "# 1. How do we update the line below to get the addition operation to equal 101?\n",
    "integerSum = 1 + integerString\n",
    "print(integerSum)\n",
    "\n",
    "\n",
    "floatString = \"2.5\"\n",
    "# 2. How do we update the line below to get the addition operation to equal 3.5?\n",
    "floatSum = 1.0 + floatString\n",
    "print(floatSum)\n",
    "\n",
    "boolString = \"True\"\n",
    "# 3. How do we update the line below to so we see the \"Very noice\"  print message?\n",
    "if boolString == True:\n",
    "    print(\"Very noice! It was True\")\n",
    "\n",
    "\n",
    "# 4. What do you think will be printed here?\n",
    "myNumber = 123\n",
    "print(\"myNumber = \" + 123)\n"
   ]
  },
  {
   "cell_type": "markdown",
   "id": "f7f6f735",
   "metadata": {},
   "source": [
    "### Exercise 2b - Input Data Type Conversion\n",
    "1. Ask the user to enter a number\n",
    "2. Convert the user entered number to an integer type\n",
    "3. Add the number 3 to the number the user entered\n",
    "4. Show a message with 3 added to the user's number\n"
   ]
  },
  {
   "cell_type": "code",
   "execution_count": null,
   "id": "b96b5d89",
   "metadata": {},
   "outputs": [],
   "source": [
    "# =========================\n",
    "# 1. Ask the user to enter a number\n",
    "userNumber = input(\"Please Enter a Number:\" )\n",
    "\n",
    "# =========================\n",
    "# What do you think will be printed here?\n",
    "print(userNumber + 3)\n",
    "\n",
    "# Update the print statement above to \n",
    "# 2. Convert the user entered number to an integer\n",
    "# 3. Add 3 to the user's' number\n",
    "# 4. Show a message of the sum"
   ]
  },
  {
   "cell_type": "markdown",
   "id": "12dd79fe",
   "metadata": {},
   "source": [
    "## Type Checks"
   ]
  },
  {
   "cell_type": "markdown",
   "id": "90a29489",
   "metadata": {},
   "source": [
    "### Example 3 - Type Check\n",
    "We can use `type()` to see what data type a variable has"
   ]
  },
  {
   "cell_type": "code",
   "execution_count": 67,
   "id": "c2f9a537",
   "metadata": {},
   "outputs": [
    {
     "name": "stdout",
     "output_type": "stream",
     "text": [
      "<class 'str'>\n",
      "<class 'float'>\n",
      "6.1\n"
     ]
    }
   ],
   "source": [
    "# =========================\n",
    "# Data Type Conversion & Type Check Example\n",
    "\n",
    "heightInFeet = \"6.1\"\n",
    "heightType = type(heightInFeet)\n",
    "print(heightType)\n",
    "\n",
    "heightInFeet = float(heightInFeet)\n",
    "heightType = type(heightInFeet)\n",
    "print(heightType)\n",
    "\n",
    "# We can still print heightInFeet\n",
    "print(heightInFeet)"
   ]
  },
  {
   "attachments": {},
   "cell_type": "markdown",
   "id": "aff45a96-d2d4-4f6c-b4c6-7d2cada7e2e2",
   "metadata": {},
   "source": [
    "### Exercise 3 - Type Check"
   ]
  },
  {
   "cell_type": "code",
   "execution_count": 63,
   "id": "51fb72ab-9e9f-498b-b746-333c0c0830fa",
   "metadata": {},
   "outputs": [
    {
     "name": "stdout",
     "output_type": "stream",
     "text": [
      "<class 'str'>\n",
      "<class 'int'>\n"
     ]
    }
   ],
   "source": [
    "# 1. Predict the data type this will print.\n",
    "predictDataType1 = '10'\n",
    "correctDataType1 = type(predictDataType1)\n",
    "print(correctDataType1)\n",
    "\n",
    "# 2. Predict the data type this will print.\n",
    "predictDataType2 = int('10')\n",
    "correctDataType2 = type(predictDataType2)\n",
    "print(correctDataType2)"
   ]
  },
  {
   "cell_type": "markdown",
   "id": "eeabc7b2-6fb8-4d84-a126-365f0f05bae5",
   "metadata": {},
   "source": [
    "### Review\n",
    "Ask for 3 different types of user input, show the data types, and show the values\n",
    "\n",
    "1. Create a program that asks the user for 3 Inputs - name, a whole number, and a decimal number\n",
    "2. Convert the user's input to their correct data types\n",
    "3. Print the type after conversion\n",
    "4. Print the value after conversion\n",
    "\n",
    "Example output:\n",
    "> Please enter your name: Mike\n",
    "\n",
    "> Please enter your favorite whole number: 8\n",
    "\n",
    "> Please enter your favorite decimal number: 3.14\n",
    "\n",
    "> Mike was converted into a <class 'str'>\n",
    "\n",
    "> 8 was converted into a <class 'int'>\n",
    "\n",
    "> 3.14 was converted into a <class 'float'>"
   ]
  },
  {
   "cell_type": "code",
   "execution_count": null,
   "id": "cffff349",
   "metadata": {},
   "outputs": [],
   "source": []
  }
 ],
 "metadata": {
  "kernelspec": {
   "display_name": "Python 3",
   "language": "python",
   "name": "python3"
  },
  "language_info": {
   "codemirror_mode": {
    "name": "ipython",
    "version": 3
   },
   "file_extension": ".py",
   "mimetype": "text/x-python",
   "name": "python",
   "nbconvert_exporter": "python",
   "pygments_lexer": "ipython3",
   "version": "3.10.4"
  }
 },
 "nbformat": 4,
 "nbformat_minor": 5
}
