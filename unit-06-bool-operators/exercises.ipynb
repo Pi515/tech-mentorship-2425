{
 "cells": [
  {
   "cell_type": "markdown",
   "id": "60bfeaf4-4355-4fdb-be08-aed8ec4b8f48",
   "metadata": {},
   "source": [
    "# Unit 06 - Booleans, Comparison Operators, and Logical Operators"
   ]
  },
  {
   "cell_type": "markdown",
   "id": "8cab1321-b50a-4ffb-bc4d-0d9974794446",
   "metadata": {},
   "source": [
    "## Lesson 1 - Booleans"
   ]
  },
  {
   "cell_type": "code",
   "execution_count": null,
   "id": "d9302f98-29a4-4821-b4c0-edc407d04e0a",
   "metadata": {},
   "outputs": [],
   "source": [
    "yes = True\n",
    "no = False\n",
    "print(yes)\n",
    "print(no)"
   ]
  },
  {
   "cell_type": "markdown",
   "id": "7d84cbb9-2429-4c71-a8ee-f0b64d3f242d",
   "metadata": {},
   "source": [
    "## Lesson 2 - Boolean Comparison Operators"
   ]
  },
  {
   "cell_type": "markdown",
   "id": "f2c61abc-7663-4e8c-94bc-b4c5d0eec035",
   "metadata": {},
   "source": [
    "### 'Greater Than' Operator"
   ]
  },
  {
   "cell_type": "code",
   "execution_count": null,
   "id": "c05cf942-a087-40af-9016-e130e6afa696",
   "metadata": {},
   "outputs": [],
   "source": [
    "10 > 4"
   ]
  },
  {
   "cell_type": "code",
   "execution_count": null,
   "id": "0829d38c-a5f2-4679-bb04-95788eea59c8",
   "metadata": {},
   "outputs": [],
   "source": [
    "6 > 6"
   ]
  },
  {
   "cell_type": "markdown",
   "id": "b7585675-3d26-42a0-8f90-20745c6200db",
   "metadata": {},
   "source": [
    "### 'Less Than' Operator"
   ]
  },
  {
   "cell_type": "code",
   "execution_count": null,
   "id": "75982c3a-cda2-42a2-a881-03f5d7837e0c",
   "metadata": {},
   "outputs": [],
   "source": [
    "3 < 3"
   ]
  },
  {
   "cell_type": "code",
   "execution_count": null,
   "id": "56688559-ae6f-42f1-a67a-64cd8380d971",
   "metadata": {},
   "outputs": [],
   "source": [
    "4 < 12"
   ]
  },
  {
   "cell_type": "markdown",
   "id": "88f1c81c-0ea1-4472-95c4-6ca0e26c26da",
   "metadata": {},
   "source": [
    "### 'Equal To' Operator"
   ]
  },
  {
   "cell_type": "code",
   "execution_count": null,
   "id": "f44a309d-caa6-4c32-9a65-db55b71e0178",
   "metadata": {},
   "outputs": [],
   "source": [
    "11 == 4"
   ]
  },
  {
   "cell_type": "code",
   "execution_count": null,
   "id": "e8061bcd-1765-4a1d-9c48-25a8d121a3c7",
   "metadata": {},
   "outputs": [],
   "source": [
    "4 == 4"
   ]
  },
  {
   "cell_type": "markdown",
   "id": "00c800f7-be3e-47ca-81a1-70764f6202f2",
   "metadata": {},
   "source": [
    "### 'Not Equal To' Operator"
   ]
  },
  {
   "cell_type": "code",
   "execution_count": null,
   "id": "c9e43228-8b8e-4e20-8558-274c15c2558f",
   "metadata": {},
   "outputs": [],
   "source": [
    "2 != 3"
   ]
  },
  {
   "cell_type": "code",
   "execution_count": null,
   "id": "052e0ef2-7da4-4318-924d-5607a455d57f",
   "metadata": {},
   "outputs": [],
   "source": [
    "5 != 5"
   ]
  },
  {
   "cell_type": "markdown",
   "id": "06ae9486-01d8-4871-8524-af2a38a76bc3",
   "metadata": {},
   "source": [
    "### 'Greater Than or Equal To' Operator"
   ]
  },
  {
   "cell_type": "code",
   "execution_count": null,
   "id": "469427a7-6847-46b4-aa0c-9445faa7d2ed",
   "metadata": {},
   "outputs": [],
   "source": [
    "10 >= 10"
   ]
  },
  {
   "cell_type": "code",
   "execution_count": null,
   "id": "3cd169af-fcf3-4c26-bd3e-5be15fae95b0",
   "metadata": {},
   "outputs": [],
   "source": [
    "5 >= 10"
   ]
  },
  {
   "cell_type": "markdown",
   "id": "e414bc79-b96d-4164-b068-f786c1d95283",
   "metadata": {},
   "source": [
    "### 'Less Than or Equal To' Operator"
   ]
  },
  {
   "cell_type": "code",
   "execution_count": null,
   "id": "ff8a4625-3166-4430-880b-6d8b4a6f2c20",
   "metadata": {},
   "outputs": [],
   "source": [
    "10 <= 3"
   ]
  },
  {
   "cell_type": "code",
   "execution_count": null,
   "id": "bce464ca-a437-40c8-a678-75b3a94910df",
   "metadata": {},
   "outputs": [],
   "source": [
    "9 <= 9"
   ]
  },
  {
   "cell_type": "code",
   "execution_count": null,
   "id": "d58181f8-fe49-4667-9ab9-7ad12588558f",
   "metadata": {},
   "outputs": [],
   "source": [
    "print(\"5 is greater than 2:\", 5 > 2)\n",
    "print(\"5 is greater than or equal to 5:\", 5 >= 5)\n",
    "print()\n",
    "\n",
    "print(\"5 is less than 10:\", 5 < 10)\n",
    "print(\"3 is less than or equal to 3:\", 3 >= 3)\n",
    "print()\n",
    "\n",
    "print(\"5 equals 6:\", 5 == 6)\n",
    "print(\"10 does not equal 7:\", 10 != 7)\n",
    "print()"
   ]
  },
  {
   "cell_type": "markdown",
   "id": "e35a474b-e4de-4313-945d-7db11d1658a7",
   "metadata": {},
   "source": [
    "## Lesson 3 - Boolean Logic Operators"
   ]
  },
  {
   "cell_type": "markdown",
   "id": "0e8f3d83-a95c-46a9-95f1-f4ec7c39b906",
   "metadata": {},
   "source": [
    "### 'and' Operator"
   ]
  },
  {
   "cell_type": "code",
   "execution_count": null,
   "id": "56639780-caea-4bcb-b744-af24ccf568d8",
   "metadata": {},
   "outputs": [],
   "source": [
    "print(\"True and True is:\", True and True)\n",
    "print(\"True and False is:\", True and False)\n",
    "print(\"False and True is:\", False and True)\n",
    "print(\"False and False is:\", False and False)"
   ]
  },
  {
   "cell_type": "markdown",
   "id": "9fd25610-419c-470a-9dd7-eded6e31da8b",
   "metadata": {},
   "source": [
    "### 'or' Operator"
   ]
  },
  {
   "cell_type": "code",
   "execution_count": null,
   "id": "f863a342-232e-4873-97ba-b0e074154df3",
   "metadata": {},
   "outputs": [],
   "source": [
    "print(\"True or True is:\", True or True)\n",
    "print(\"True or False is:\", True or False)\n",
    "print(\"False or True is:\", False or True)\n",
    "print(\"False or False is:\", False or False)"
   ]
  },
  {
   "cell_type": "markdown",
   "id": "23d2cf58-ba53-4067-9732-95563971c798",
   "metadata": {},
   "source": [
    "### 'not' Operator"
   ]
  },
  {
   "cell_type": "code",
   "execution_count": null,
   "id": "ac68c5a4-d6e0-4ffa-bb9a-53d46d3851b5",
   "metadata": {},
   "outputs": [],
   "source": [
    "print(\"not True is:\", not True)"
   ]
  },
  {
   "cell_type": "code",
   "execution_count": null,
   "id": "f21ae2aa-16df-4599-88bd-4e20c0b734b0",
   "metadata": {},
   "outputs": [],
   "source": [
    "print(\"not False is:\", not False)"
   ]
  },
  {
   "cell_type": "markdown",
   "id": "e9df0ee3-9c7c-46bc-aa33-6f351e411c4f",
   "metadata": {},
   "source": [
    "## Lesson 4 - Comparison & Logic Operations Together"
   ]
  },
  {
   "cell_type": "markdown",
   "id": "f02b10a6-845b-4f16-be73-ecd278cd125f",
   "metadata": {},
   "source": [
    "### Example 1:"
   ]
  },
  {
   "cell_type": "code",
   "execution_count": null,
   "id": "9f8ff12e-8997-4087-bee6-246c4376bda4",
   "metadata": {},
   "outputs": [],
   "source": [
    "# 5 > 2 and 10 < 5  -->  (5 > 2) and (10 < 5)\n",
    "\n",
    "# 5 > 2 --> True\n",
    "# 10 < 5 --> False\n",
    "\n",
    "# (5 > 2) and (10 < 5) --> True and False\n",
    "\n",
    "print(\"True and False is:\", True and False)\n",
    "\n",
    "print(\"5 > 2 and 10 < 5 is:\", 5 > 2 and 10 < 5)"
   ]
  },
  {
   "cell_type": "markdown",
   "id": "fdd8219b-2d23-4290-9bd8-e745d572611d",
   "metadata": {},
   "source": [
    "### Example 2:"
   ]
  },
  {
   "cell_type": "code",
   "execution_count": null,
   "id": "6672d3ca-4219-494b-99cd-d706f6f4133a",
   "metadata": {},
   "outputs": [],
   "source": [
    "# 3 != 3 or 5 <= 5 --> (3 != 3) or (5 <= 5)\n",
    "\n",
    "# 3 != 3 --> False\n",
    "# 5 <= 5 --> True\n",
    "\n",
    "# (3 != 3) or (5 <= 5) --> False or True\n",
    "\n",
    "print(\"False or True is:\", False or True)\n",
    "\n",
    "print(\"3 != 3 or 5 <= 5 is:\", 3 != 3 or 5 <= 5)"
   ]
  },
  {
   "cell_type": "markdown",
   "id": "a6292899-93ee-41b7-9cf8-b96f575657cd",
   "metadata": {},
   "source": [
    "### Example 3:"
   ]
  },
  {
   "cell_type": "code",
   "execution_count": null,
   "id": "ca25769e-b733-4cc0-97a0-2ddc6c0f55ac",
   "metadata": {},
   "outputs": [],
   "source": [
    "# not(5 <= 2 and 4 == 4) --> not((5 <= 2) and (4 == 4))\n",
    "\n",
    "# 5 <= 2 --> False\n",
    "# 4 == 4 --> True\n",
    "\n",
    "# not((5 <= 2) and (4 == 4)) --> not(False and True)\n",
    "\n",
    "# False and True --> False\n",
    "\n",
    "# not(False and True) --> not False\n",
    "\n",
    "print(\"not False is:\", not False)\n",
    "print(\"not(5 <= 2 and 4 == 4) is:\", not(5 <= 2 and 4 == 4))\n"
   ]
  },
  {
   "cell_type": "markdown",
   "id": "23acba82-6a51-4796-a963-1f4e39522702",
   "metadata": {},
   "source": [
    "## Lesson 5 - Challenge Exercises"
   ]
  },
  {
   "cell_type": "markdown",
   "id": "012c59cf-6b94-4161-a720-e39a1cb5d507",
   "metadata": {},
   "source": [
    "### Order of Operations"
   ]
  },
  {
   "cell_type": "code",
   "execution_count": null,
   "id": "2333ab49-d31b-4742-a4ec-f411c43eda73",
   "metadata": {},
   "outputs": [],
   "source": [
    "print((7 > 4 and 7 <= 9) == (7 <= 9 and 7 > 4))"
   ]
  },
  {
   "cell_type": "code",
   "execution_count": null,
   "id": "d64ade0f-2d1e-456c-b83f-f9b0d29c4fb5",
   "metadata": {},
   "outputs": [],
   "source": [
    "print(7 > 4 and 7 <= 9 == 7 <= 9 and 7 > 4)"
   ]
  },
  {
   "cell_type": "markdown",
   "id": "5a44d300-35d6-4a9f-8752-b9a2fe6034bd",
   "metadata": {},
   "source": [
    "### Identity Law"
   ]
  },
  {
   "cell_type": "code",
   "execution_count": null,
   "id": "11c6d326-989d-48f1-9359-195f98b6721d",
   "metadata": {},
   "outputs": [],
   "source": [
    "print(True and 3 == 3)\n",
    "print(True and 3 != 3)"
   ]
  },
  {
   "cell_type": "code",
   "execution_count": null,
   "id": "e2278c41-3e76-49a3-8287-351ab7f732f0",
   "metadata": {},
   "outputs": [],
   "source": [
    "print(False or 3 == 3)\n",
    "print(False or 3 != 3)"
   ]
  },
  {
   "cell_type": "markdown",
   "id": "051c6dbd-2227-412d-ae3d-a92896ae8b3d",
   "metadata": {},
   "source": [
    "### Null Law"
   ]
  },
  {
   "cell_type": "code",
   "execution_count": null,
   "id": "3a45b654-9ca2-49af-8cc9-b8b9bf6626e9",
   "metadata": {},
   "outputs": [],
   "source": [
    "print(False and 3 != 3)\n",
    "print(False and 3 == 3)"
   ]
  },
  {
   "cell_type": "code",
   "execution_count": null,
   "id": "f9787ed0-481e-475c-996f-c5e37d87e459",
   "metadata": {},
   "outputs": [],
   "source": [
    "print(True or 3 == 3)\n",
    "print(True or 3 != 3)"
   ]
  },
  {
   "cell_type": "markdown",
   "id": "59dd7858-1e78-4252-a20a-381bddb073b5",
   "metadata": {},
   "source": [
    "### Idempotent Law"
   ]
  },
  {
   "cell_type": "code",
   "execution_count": null,
   "id": "3b9a424b-6a39-44b5-a84a-6fa40da9af58",
   "metadata": {},
   "outputs": [],
   "source": [
    "print(5 > 2 or 5 > 2)"
   ]
  },
  {
   "cell_type": "code",
   "execution_count": null,
   "id": "d8a11a12-16bd-4bf7-a85d-a520a419fe31",
   "metadata": {},
   "outputs": [],
   "source": [
    "print(5 < 2 or 5 < 2)"
   ]
  },
  {
   "cell_type": "code",
   "execution_count": null,
   "id": "2e57ceb2-f2b4-4baf-a15d-457c2ec25bb1",
   "metadata": {},
   "outputs": [],
   "source": [
    "print(5 > 2 and 5 > 2)"
   ]
  },
  {
   "cell_type": "code",
   "execution_count": null,
   "id": "629e6e88-a6f8-475b-a31a-e8bded487f56",
   "metadata": {},
   "outputs": [],
   "source": [
    "print(5 < 2 and 5 < 2)"
   ]
  },
  {
   "cell_type": "markdown",
   "id": "380f110d-103d-412a-9ffc-28e5e9dd2a12",
   "metadata": {},
   "source": [
    "### Inverse Law"
   ]
  },
  {
   "cell_type": "code",
   "execution_count": null,
   "id": "66c4df90-afac-46cd-bfc7-e953c3d97154",
   "metadata": {},
   "outputs": [],
   "source": [
    "print (3 < 6 and not 3 < 6)"
   ]
  },
  {
   "cell_type": "code",
   "execution_count": null,
   "id": "db149b42-4aef-4649-9a9f-1f4e8c88259b",
   "metadata": {},
   "outputs": [],
   "source": [
    "print (3 > 6 and not 3 > 6)"
   ]
  },
  {
   "cell_type": "code",
   "execution_count": null,
   "id": "877570c2-9159-4f34-a8c5-5c329c2641b2",
   "metadata": {},
   "outputs": [],
   "source": [
    "print(3 != 4 or not 3 != 4)"
   ]
  },
  {
   "cell_type": "code",
   "execution_count": null,
   "id": "39486d9d-55aa-40fb-a981-caaa7815f189",
   "metadata": {},
   "outputs": [],
   "source": [
    "print(2 < 1 or not 2 < 1)"
   ]
  },
  {
   "cell_type": "markdown",
   "id": "e67928ec-7827-45fa-a224-588a27a6ef25",
   "metadata": {},
   "source": [
    "### Commutative Law"
   ]
  },
  {
   "cell_type": "code",
   "execution_count": null,
   "id": "ccd7097a-fda6-4d03-b3e8-778ee17756bd",
   "metadata": {},
   "outputs": [],
   "source": [
    "print(4 != 7 and 3 >= 2)"
   ]
  },
  {
   "cell_type": "code",
   "execution_count": null,
   "id": "66620162-f741-4c19-b3c6-03ee940ea7af",
   "metadata": {},
   "outputs": [],
   "source": [
    "print(3 >= 2 and 4 != 7)"
   ]
  },
  {
   "cell_type": "code",
   "execution_count": null,
   "id": "e62cd8ee-d214-42fb-b181-dcbc064530a4",
   "metadata": {},
   "outputs": [],
   "source": [
    "print((3 > 4 and 7 < 8) == (7 < 8 and 3 > 4))"
   ]
  },
  {
   "cell_type": "code",
   "execution_count": null,
   "id": "3aa88c1d-d82d-41fc-9764-46ae2cdc65c0",
   "metadata": {},
   "outputs": [],
   "source": [
    "print((6 <= 6 or 3 > 9) == (3 > 9 or 6 <= 6))"
   ]
  },
  {
   "cell_type": "markdown",
   "id": "273a633a-e730-4a96-b3c6-49f38a266c5b",
   "metadata": {},
   "source": [
    "### De Morgan's Law"
   ]
  },
  {
   "cell_type": "code",
   "execution_count": null,
   "id": "8e030dd8-3c68-4266-8457-14008ef88b77",
   "metadata": {},
   "outputs": [],
   "source": [
    "not(4 == 4 and 3 > 1) == (not 4 == 4 or not 3 > 1)"
   ]
  },
  {
   "cell_type": "code",
   "execution_count": null,
   "id": "6176cca5-8bc3-484a-ac8e-f4338a20c093",
   "metadata": {},
   "outputs": [],
   "source": [
    "not(7 > 9 and 3 != 1) == (not 7 > 9 or not 3 != 1)"
   ]
  },
  {
   "cell_type": "code",
   "execution_count": null,
   "id": "2ad9ab43-19a1-4c84-843f-a736a6479fae",
   "metadata": {},
   "outputs": [],
   "source": [
    "not(5 < 3 or 4 == 4) == (not(5 < 3) and not(4 == 4))"
   ]
  }
 ],
 "metadata": {
  "kernelspec": {
   "display_name": "Python 3 (ipykernel)",
   "language": "python",
   "name": "python3"
  },
  "language_info": {
   "codemirror_mode": {
    "name": "ipython",
    "version": 3
   },
   "file_extension": ".py",
   "mimetype": "text/x-python",
   "name": "python",
   "nbconvert_exporter": "python",
   "pygments_lexer": "ipython3",
   "version": "3.12.6"
  }
 },
 "nbformat": 4,
 "nbformat_minor": 5
}
