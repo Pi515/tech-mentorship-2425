{
  "nbformat": 4,
  "nbformat_minor": 0,
  "metadata": {
    "colab": {
      "provenance": []
    },
    "kernelspec": {
      "name": "python3",
      "display_name": "Python 3"
    },
    "language_info": {
      "name": "python"
    }
  },
  "cells": [
    {
      "cell_type": "markdown",
      "source": [
        "# Unit 9 Try except\n",
        "In real-world applications, things often don't go as planned. For example, a program may attempt to divide by zero or open a file that doesn’t exist. This could cause the program to crash.\n",
        "\n",
        "By adding `try` `except` blocks, you can write a program that handles errors and allows it to continue running."
      ],
      "metadata": {
        "id": "N3UVI8y12ZRb"
      }
    },
    {
      "cell_type": "markdown",
      "source": [
        "## Error handling with `try` and `except`\n",
        "### Example: Code with no error handling\n"
      ],
      "metadata": {
        "id": "BnqXyADH3DXq"
      }
    },
    {
      "cell_type": "code",
      "source": [
        "# Let's run bad code on purpose\n",
        "100 / 0\n",
        "print(\"This print statement does not run because the program crashes in the first line.\")"
      ],
      "metadata": {
        "id": "lZsHAonE2VMy"
      },
      "execution_count": null,
      "outputs": []
    },
    {
      "cell_type": "markdown",
      "source": [
        "The code crashes with a `ZeroDivisionError`, one of many errors in Python.\n",
        "\n",
        "### Example: Code with error handling\n",
        "Error handling be done by adding a `try-except` block:\n"
      ],
      "metadata": {
        "id": "0vqEAna63TBO"
      }
    },
    {
      "cell_type": "code",
      "source": [
        "# Still bad code but with error handling\n",
        "try:\n",
        "    100 / 0\n",
        "except ZeroDivisionError:\n",
        "  print(\"You can't divide by zero!\")\n",
        "\n",
        "print(\"You are able to read this because there is error handling.\")"
      ],
      "metadata": {
        "id": "E_APsGIE3Ufc"
      },
      "execution_count": null,
      "outputs": []
    },
    {
      "cell_type": "markdown",
      "source": [
        "**What's happening here?**\n",
        "The program first attempts to execute code in the `try` block.\n",
        "\n",
        "If a `ZeroDivisionError` occurs, the `except` block catches that specific type of error and allows the program to continue to the next line.\n"
      ],
      "metadata": {
        "id": "0ate0-8p4YFS"
      }
    },
    {
      "cell_type": "markdown",
      "source": [
        "### Exercise 1\n",
        "Look at this bad code that fails with a `SyntaxError`, which indicates a problem with the structure of the code:"
      ],
      "metadata": {
        "id": "psJVYo8q72Y_"
      }
    },
    {
      "cell_type": "code",
      "source": [
        "# Let's run bad code on purpose again\n",
        "print(\"Hello World\""
      ],
      "metadata": {
        "id": "PQ1jluoh-eIA"
      },
      "execution_count": null,
      "outputs": []
    },
    {
      "cell_type": "markdown",
      "source": [
        "Add `try` `except` blocks that handles the `SyntaxError` from `print("Hello world"` and outputs a print statement that describes the error"
      ],
      "metadata": {
        "id": "0btBTOu9_bzD"
      }
    },
    {
      "cell_type": "code",
      "source": [
        "# your code here!"
      ],
      "metadata": {
        "id": "cEtkg7uE_q3H"
      },
      "execution_count": null,
      "outputs": []
    },
    {
      "cell_type": "markdown",
      "source": [
        "## Note\n",
        "You don't have to know the error that you want to catch with a `try` `except` blocks. BUT it is still best practice to handle specific errors (or handle specific errors before general ones)."
      ],
      "metadata": {
        "id": "bmXvFnI5-o5x"
      }
    },
    {
      "cell_type": "code",
      "source": [
        "try:\n",
        "  print(i) # attempt to print an variable that does not exist\n",
        "except:\n",
        "  print(\"An exception occurred\")"
      ],
      "metadata": {
        "id": "5ZxP90Le-q0P"
      },
      "execution_count": null,
      "outputs": []
    },
    {
      "cell_type": "code",
      "source": [
        "try:\n",
        "  print(i) # attempt to print an variable that does not exist\n",
        "except NameError:\n",
        "  print(\"An exception occurred\")"
      ],
      "metadata": {
        "id": "97xVSGxp-54A"
      },
      "execution_count": null,
      "outputs": []
    },
    {
      "cell_type": "markdown",
      "source": [
        "## Error handling with `else` and `finally`\n",
        "Let's try adding `else` and `finally` blocks to the code.\n",
        "\n",
        "The `else` block lets you execute code when there is no error.\n",
        "\n",
        "On the other hand, code in the `finally` block will always run, regardless of the result of the `try` and `except` blocks."
      ],
      "metadata": {
        "id": "uyn2nYib60NN"
      }
    },
    {
      "cell_type": "markdown",
      "source": [
        "### Example: Error handling with `else` block"
      ],
      "metadata": {
        "id": "yDgA816z9I0H"
      }
    },
    {
      "cell_type": "code",
      "source": [
        "try:\n",
        "    x = 10 / 2\n",
        "except ZeroDivisionError:\n",
        "    print(\"You can't divide by zero!\")\n",
        "else:\n",
        "    print(\"Division was successful.\")"
      ],
      "metadata": {
        "id": "CvXKK5Kp7EL-"
      },
      "execution_count": null,
      "outputs": []
    },
    {
      "cell_type": "code",
      "source": [
        "try:\n",
        "    x = 10 / 0\n",
        "except ZeroDivisionError:\n",
        "    print(\"You can't divide by zero!\")\n",
        "else:\n",
        "    print(\"Division was successful.\")"
      ],
      "metadata": {
        "id": "OA4HtiNd37nc"
      },
      "execution_count": null,
      "outputs": []
    },
    {
      "cell_type": "markdown",
      "source": [
        "### Example: Error handling with `finally` block"
      ],
      "metadata": {
        "id": "xykpCEoC9Ril"
      }
    },
    {
      "cell_type": "code",
      "source": [
        "try:\n",
        "    x = 10 / 0\n",
        "except ZeroDivisionError:\n",
        "    print(\"You can't divide by zero!\")\n",
        "finally:\n",
        "    print(\"Code in the finally block will always run\")\n"
      ],
      "metadata": {
        "id": "ekSyhbnG6kMF"
      },
      "execution_count": null,
      "outputs": []
    },
    {
      "cell_type": "code",
      "source": [
        "try:\n",
        "    x = 10 / 2\n",
        "except ZeroDivisionError:\n",
        "    print(\"You can't divide by zero!\")\n",
        "finally:\n",
        "    print(\"Code in the finally block will always run\")"
      ],
      "metadata": {
        "id": "R6LLgY9r6l0x"
      },
      "execution_count": null,
      "outputs": []
    },
    {
      "cell_type": "markdown",
      "source": [
        "### Exercise 2\n",
        "`else` or `finally`? Which block should be used?"
      ],
      "metadata": {
        "id": "ffW6zAVJ9lR5"
      }
    },
    {
      "cell_type": "code",
      "source": [
        "string1 = \"abc\"\n",
        "try:\n",
        "    bad_code = int(string1) # unsuccessful attempt to convert string to an integer\n",
        "except ValueError:\n",
        "    print(f\"{string1} cannot be converted into an integer\")\n",
        "# ?????:\n",
        "#     print(\"This statement should always run\")"
      ],
      "metadata": {
        "id": "SW0M0CYU9dRQ"
      },
      "execution_count": null,
      "outputs": []
    },
    {
      "cell_type": "code",
      "source": [
        "string2 = \"1\"\n",
        "try:\n",
        "    bad_code = int(string2) # successful attempt to convert string to an integer\n",
        "except ValueError:\n",
        "    print(f\"{string2} cannot be converted into an integer\")\n",
        "# ?????:\n",
        "#     print(\"This print statement should only run if the code succeeds\")"
      ],
      "metadata": {
        "id": "b_-rXFAY9kWV"
      },
      "execution_count": null,
      "outputs": []
    },
    {
      "cell_type": "code",
      "source": [],
      "metadata": {
        "id": "fQGC4qDE-Zmv"
      },
      "execution_count": null,
      "outputs": []
    }
  ]
}
