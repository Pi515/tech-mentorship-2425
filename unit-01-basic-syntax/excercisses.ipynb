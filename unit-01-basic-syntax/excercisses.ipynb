{
 "cells": [
  {
   "cell_type": "markdown",
   "id": "414fd373-5179-4ab7-9a64-9a6f7d1d4d80",
   "metadata": {},
   "source": [
    "# Print"
   ]
  },
  {
   "cell_type": "code",
   "execution_count": 9,
   "id": "cbc1eae5-e342-43dd-8651-a768fe6eaa71",
   "metadata": {},
   "outputs": [
    {
     "name": "stdout",
     "output_type": "stream",
     "text": [
      "\n"
     ]
    }
   ],
   "source": [
    "print(\"\")"
   ]
  },
  {
   "cell_type": "code",
   "execution_count": null,
   "id": "4e71d147-d77c-443d-9ce5-ab010b84da04",
   "metadata": {},
   "outputs": [],
   "source": []
  },
  {
   "cell_type": "markdown",
   "id": "e0152964-128c-4beb-8462-6aa490166c47",
   "metadata": {},
   "source": [
    "## Print Statements\n",
    "- Display information\n",
    "- Display math"
   ]
  },
  {
   "cell_type": "code",
   "execution_count": null,
   "id": "80e183de-13b1-48e0-971e-c1b1121b16db",
   "metadata": {},
   "outputs": [],
   "source": []
  },
  {
   "cell_type": "code",
   "execution_count": null,
   "id": "c5fbe8ae-d218-4f74-831e-cbd0bb1dba95",
   "metadata": {},
   "outputs": [],
   "source": []
  },
  {
   "cell_type": "markdown",
   "id": "8934c698-eeb5-4198-bd75-8d3e24b0cb54",
   "metadata": {},
   "source": [
    "## Practice and Review\n",
    "- Your name\n",
    "- Your high school\n",
    "- Your grade\n",
    "- Fun fact "
   ]
  },
  {
   "cell_type": "code",
   "execution_count": null,
   "id": "a3736482-9c89-43e3-b4bd-c9dc8b7c9f75",
   "metadata": {},
   "outputs": [],
   "source": []
  },
  {
   "cell_type": "markdown",
   "id": "fecdfa11-4e77-4be3-83f9-8cdfa109787c",
   "metadata": {},
   "source": [
    "## Syntax"
   ]
  },
  {
   "cell_type": "code",
   "execution_count": null,
   "id": "cdf97e77-ba6b-45cc-9841-f6083e613466",
   "metadata": {},
   "outputs": [],
   "source": [
    "Print(\"Hello World!\")"
   ]
  },
  {
   "cell_type": "code",
   "execution_count": null,
   "id": "043d9acd-2586-4a4b-ac0f-83387ac49cae",
   "metadata": {},
   "outputs": [],
   "source": [
    "PRINT(\"Hello World!\")"
   ]
  },
  {
   "cell_type": "code",
   "execution_count": null,
   "id": "1fb3797b-9eb7-4100-a704-444d714445ae",
   "metadata": {},
   "outputs": [],
   "source": [
    "(\"Hello World!\")print"
   ]
  },
  {
   "cell_type": "markdown",
   "id": "826f27ff-a37a-4e92-9377-86a7ca8eceee",
   "metadata": {},
   "source": [
    "## Fix the code"
   ]
  },
  {
   "cell_type": "code",
   "execution_count": null,
   "id": "236db376-1024-436c-aa25-2bf9559b192b",
   "metadata": {},
   "outputs": [],
   "source": [
    "prinT(\"Hello Students\")\n",
    "print(=Musi +=)\n",
    "print(\">Songs\"\n",
    "Print(\">Albums\")\n",
    "print(>Artists\")"
   ]
  },
  {
   "cell_type": "code",
   "execution_count": null,
   "id": "b92e946b-ff6d-46e5-bb06-c6599368d7c4",
   "metadata": {},
   "outputs": [],
   "source": []
  },
  {
   "cell_type": "code",
   "execution_count": null,
   "id": "2bcb1cb2-7748-4896-b86f-072bcf67639c",
   "metadata": {},
   "outputs": [],
   "source": []
  },
  {
   "cell_type": "markdown",
   "id": "b94dc431-6959-48d5-a2dc-563b6192f5f3",
   "metadata": {},
   "source": [
    "## Comments"
   ]
  },
  {
   "cell_type": "code",
   "execution_count": 10,
   "id": "6311b85c-ef0c-4145-98ba-02c790d3ab57",
   "metadata": {},
   "outputs": [],
   "source": [
    "#print(\"Hello\")"
   ]
  },
  {
   "cell_type": "code",
   "execution_count": null,
   "id": "35286104-af82-40d0-ab8c-1506ab116737",
   "metadata": {},
   "outputs": [],
   "source": []
  }
 ],
 "metadata": {
  "kernelspec": {
   "display_name": "Python 3 (ipykernel)",
   "language": "python",
   "name": "python3"
  },
  "language_info": {
   "codemirror_mode": {
    "name": "ipython",
    "version": 3
   },
   "file_extension": ".py",
   "mimetype": "text/x-python",
   "name": "python",
   "nbconvert_exporter": "python",
   "pygments_lexer": "ipython3",
   "version": "3.12.2"
  }
 },
 "nbformat": 4,
 "nbformat_minor": 5
}
